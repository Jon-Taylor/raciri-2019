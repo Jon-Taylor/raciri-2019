{
 "cells": [
  {
   "cell_type": "code",
   "execution_count": 1,
   "metadata": {},
   "outputs": [
    {
     "data": {
      "application/vnd.jupyter.widget-view+json": {
       "model_id": "95b6b49cc0df4b20abcacfcfa527f054",
       "version_major": 2,
       "version_minor": 0
      },
      "text/plain": [
       "FigureWidget({\n",
       "    'data': [], 'layout': {'template': '...'}\n",
       "})"
      ]
     },
     "metadata": {},
     "output_type": "display_data"
    }
   ],
   "source": [
    "import plotly.graph_objs as go\n",
    "fig = go.FigureWidget()\n",
    "# Display an empty figure\n",
    "fig"
   ]
  },
  {
   "cell_type": "code",
   "execution_count": 8,
   "metadata": {},
   "outputs": [],
   "source": []
  },
  {
   "cell_type": "code",
   "execution_count": 2,
   "metadata": {},
   "outputs": [],
   "source": [
    "\n",
    "\n",
    "import scipp as sc\n",
    "import numpy as np\n",
    "from scipp import Dim"
   ]
  },
  {
   "cell_type": "code",
   "execution_count": 3,
   "metadata": {},
   "outputs": [],
   "source": [
    "d = sc.Dataset(\n",
    "   ....:         {'a': sc.Variable(dims=[Dim.X, Dim.Y], values=np.random.rand(918, 2000)),\n",
    "   ....:          'b': sc.Variable(1.0)},\n",
    "   ....:          coords={\n",
    "   ....:              Dim.X: sc.Variable([Dim.X], values=np.arange(918.0)),\n",
    "   ....:              Dim.Y: sc.Variable([Dim.Y], values=np.arange(2000.0), unit=sc.units.m)},\n",
    "   ....:          labels={\n",
    "   ....:              'aux': sc.Variable([Dim.Y], values=np.random.rand(2000))})"
   ]
  },
  {
   "cell_type": "code",
   "execution_count": 4,
   "metadata": {},
   "outputs": [
    {
     "data": {
      "application/vnd.jupyter.widget-view+json": {
       "model_id": "3a346a0c9efc4a5cba1eb4434dcbe0cf",
       "version_major": 2,
       "version_minor": 0
      },
      "text/plain": [
       "FigureWidget({\n",
       "    'data': [{'colorbar': {'title': {'side': 'right', 'text': 'a'}},\n",
       "              'colorscale'…"
      ]
     },
     "metadata": {},
     "output_type": "display_data"
    }
   ],
   "source": [
    "sc.plot(d)"
   ]
  },
  {
   "cell_type": "code",
   "execution_count": 7,
   "metadata": {},
   "outputs": [],
   "source": [
    "import scipp as sp\n",
    "\n",
    "\n",
    "def get_pos(pos):\n",
    "    return [pos.X(), pos.Y(), pos.Z()]\n",
    "\n",
    "\n",
    "def convert_instrument(dataset, ws):\n",
    "    compInfo = sp.Dataset()\n",
    "    compInfo[sp.Coord.Position] = ([sp.Dim.Component], (2,))\n",
    "    # Current assumption: 0 is source, 1 is sample\n",
    "    sourcePos = ws.componentInfo().sourcePosition()\n",
    "    samplePos = ws.componentInfo().samplePosition()\n",
    "    compInfo[sp.Coord.Position].data[0] = get_pos(sourcePos)\n",
    "    compInfo[sp.Coord.Position].data[1] = get_pos(samplePos)\n",
    "    dataset[sp.Coord.ComponentInfo] = ([], compInfo)\n",
    "\n",
    "\n",
    "def initPosSpectrumNo(d, nHist, ws):\n",
    "    try:\n",
    "        d[sp.Coord.Position] = ([sp.Dim.Position], [get_pos(\n",
    "            ws.spectrumInfo().position(j)) for j in range(nHist)])\n",
    "    except RuntimeError:\n",
    "        pass\n",
    "    d[sp.Coord.SpectrumNumber] = (\n",
    "        [sp.Dim.Position],\n",
    "        [ws.getSpectrum(j).getSpectrumNo() for j in range(nHist)])\n",
    "\n",
    "\n",
    "def ConvertWorkspace2DToDataset(ws, name):\n",
    "    d = sp.Dataset()\n",
    "    cb = ws.isCommonBins()\n",
    "    nHist = ws.getNumberHistograms()\n",
    "    convert_instrument(d, ws)\n",
    "    initPosSpectrumNo(d, nHist, ws)\n",
    "\n",
    "    # TODO More cases?\n",
    "    tag = sp.Coord.DeltaE if ws.getAxis(\n",
    "        0).getUnit().unitID() == 'DeltaE' else sp.Coord.Tof\n",
    "    dim = sp.Dim.DeltaE if ws.getAxis(\n",
    "        0).getUnit().unitID() == 'DeltaE' else sp.Dim.Tof\n",
    "    if cb:\n",
    "        d[tag] = ([dim], ws.readX(0))\n",
    "    else:\n",
    "        d[tag] = ([sp.Dim.Position, dim],\n",
    "                  (ws.getNumberHistograms(), len(ws.readX(0))))\n",
    "        for i in range(ws.getNumberHistograms()):\n",
    "            d[tag][sp.Dim.Position, i] = ws.readX(i)\n",
    "\n",
    "    d[sp.Data.Value, name] = ([sp.Dim.Position, dim],\n",
    "                              (ws.getNumberHistograms(), len(ws.readY(0))))\n",
    "    d[sp.Data.Variance, name] = (\n",
    "        [sp.Dim.Position, dim], (ws.getNumberHistograms(), len(ws.readE(0))))\n",
    "\n",
    "    # TODO Use unit information in workspace, if available.\n",
    "    d[sp.Data.Value, name].unit = sp.units.counts\n",
    "    d[sp.Data.Variance, name].unit = sp.units.counts * sp.units.counts\n",
    "\n",
    "    for i in range(ws.getNumberHistograms()):\n",
    "        d[sp.Data.Value, name][sp.Dim.Position, i] = ws.readY(i)\n",
    "        d[sp.Data.Variance, name][sp.Dim.Position,\n",
    "                                  i] = ws.readE(i) * ws.readE(i)\n",
    "\n",
    "    return d\n",
    "\n",
    "\n",
    "def ConvertEventWorkspaceToDataset(ws, name, drop_pulse_times):\n",
    "    d = sp.Dataset()\n",
    "    nHist = ws.getNumberHistograms()\n",
    "    convert_instrument(d, ws)\n",
    "    initPosSpectrumNo(d, nHist, ws)\n",
    "\n",
    "    d[sp.Data.Events, name] = ([sp.Dim.Position], (nHist,))\n",
    "    for i, e in enumerate(d[sp.Data.Events, name].data):\n",
    "        e[sp.Data.Tof] = ([sp.Dim.Event], ws.getSpectrum(i).getTofs())\n",
    "        if not drop_pulse_times:\n",
    "            pt = ws.getSpectrum(i).getPulseTimes()\n",
    "            e[sp.Data.PulseTime] = ([sp.Dim.Event],\n",
    "                                    [p.total_nanoseconds() for p in pt])\n",
    "    return d\n",
    "\n",
    "# Pulse times have a Mantid-specific format so the conversion is very slow.\n",
    "# Dataset is flexible and can work without pulse times, so we can drop them.\n",
    "\n",
    "\n",
    "def to_dataset(ws, name='', drop_pulse_times=False):\n",
    "    if ws.id() == 'Workspace2D':\n",
    "        return ConvertWorkspace2DToDataset(ws, name)\n",
    "    if ws.id() == 'EventWorkspace':\n",
    "        return ConvertEventWorkspaceToDataset(ws, name, drop_pulse_times)\n",
    "    raise 'Unsupported workspace type'"
   ]
  },
  {
   "cell_type": "code",
   "execution_count": null,
   "metadata": {},
   "outputs": [],
   "source": [
    "import mantid.simpleapi as "
   ]
  }
 ],
 "metadata": {
  "kernelspec": {
   "display_name": "Python 3",
   "language": "python",
   "name": "python3"
  },
  "language_info": {
   "codemirror_mode": {
    "name": "ipython",
    "version": 3
   },
   "file_extension": ".py",
   "mimetype": "text/x-python",
   "name": "python",
   "nbconvert_exporter": "python",
   "pygments_lexer": "ipython3",
   "version": "3.6.7"
  }
 },
 "nbformat": 4,
 "nbformat_minor": 4
}
